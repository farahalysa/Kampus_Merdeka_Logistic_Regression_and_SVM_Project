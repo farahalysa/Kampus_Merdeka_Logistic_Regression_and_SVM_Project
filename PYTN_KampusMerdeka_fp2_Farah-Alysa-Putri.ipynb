{
 "cells": [
  {
   "cell_type": "markdown",
   "metadata": {},
   "source": [
    "# Final Project 2"
   ]
  },
  {
   "cell_type": "markdown",
   "metadata": {},
   "source": [
    "Nama            : Farah Alysa Putri <br>\n",
    "Program         : Introduction to Python for Data Science <br>\n",
    "Kode Peserta    : PYTN-KS02-001\n",
    "\n",
    "Anggota Kelompok:\n",
    "1. Anindita Khusnul Oktavia (PYTN-KS02-006)\n",
    "2. Farah Alysa Putri        (PYTN-KS02-001)"
   ]
  },
  {
   "cell_type": "markdown",
   "metadata": {},
   "source": [
    "## Perkenalan"
   ]
  },
  {
   "cell_type": "markdown",
   "metadata": {},
   "source": [
    "Final Project 2 dibuat guna mengevaluasi konsep Logistic Regression dan SVM sebagai berikut:\n",
    "- Mampu memahami konsep Classification dengan Logistic Regression dan SVM\n",
    "- Mampu mempersiapkan data untuk digunakan dalam model Logistic Regression dan SVM\n",
    "- Mampu mengimplementasikan Logistic Regression dan SVM untuk membuat prediksi <br>\n",
    "\n",
    "Dataset yang digunakan adalah dataset Rain in Australia. Dataset ini memiliki 23 kolom dan 145460 baris yang diperoleh dari Kaggle pada link https://www.kaggle.com/jsphyg/weather-dataset-rattle-package. Dengan data hujan harian selama 10 tahun di Australia, kolom RainTomorrow adalah target variable yang akan diprediksi. Jika “Yes” maka besok harinya disana hujan 1mm atau lebih."
   ]
  },
  {
   "cell_type": "markdown",
   "metadata": {},
   "source": [
    "## Import Libraries"
   ]
  },
  {
   "cell_type": "code",
   "execution_count": 1,
   "metadata": {},
   "outputs": [],
   "source": [
    "# import library\n",
    "import numpy as np \n",
    "import pandas as pd \n",
    "import matplotlib.pyplot as plt\n",
    "import seaborn as sns\n",
    "\n",
    "from sklearn.model_selection import train_test_split\n",
    "from sklearn import preprocessing\n",
    "from sklearn.metrics import confusion_matrix\n",
    "\n",
    "from sklearn.linear_model import LogisticRegression\n",
    "from sklearn.neighbors import KNeighborsClassifier\n",
    "\n",
    "from sklearn.ensemble import BaggingClassifier\n",
    "from sklearn.multiclass import OneVsRestClassifier\n",
    "from sklearn.svm import SVC\n",
    "\n",
    "from sklearn.tree import DecisionTreeClassifier\n",
    "\n",
    "from sklearn.ensemble import RandomForestClassifier\n",
    "\n",
    "from sklearn.naive_bayes import GaussianNB\n",
    "\n",
    "from sklearn.model_selection import train_test_split\n",
    "from sklearn.metrics import accuracy_score, classification_report"
   ]
  },
  {
   "cell_type": "markdown",
   "metadata": {},
   "source": [
    "## Data Loading"
   ]
  },
  {
   "cell_type": "code",
   "execution_count": 2,
   "metadata": {},
   "outputs": [
    {
     "data": {
      "text/html": [
       "<div>\n",
       "<style scoped>\n",
       "    .dataframe tbody tr th:only-of-type {\n",
       "        vertical-align: middle;\n",
       "    }\n",
       "\n",
       "    .dataframe tbody tr th {\n",
       "        vertical-align: top;\n",
       "    }\n",
       "\n",
       "    .dataframe thead th {\n",
       "        text-align: right;\n",
       "    }\n",
       "</style>\n",
       "<table border=\"1\" class=\"dataframe\">\n",
       "  <thead>\n",
       "    <tr style=\"text-align: right;\">\n",
       "      <th></th>\n",
       "      <th>Date</th>\n",
       "      <th>Location</th>\n",
       "      <th>MinTemp</th>\n",
       "      <th>MaxTemp</th>\n",
       "      <th>Rainfall</th>\n",
       "      <th>Evaporation</th>\n",
       "      <th>Sunshine</th>\n",
       "      <th>WindGustDir</th>\n",
       "      <th>WindGustSpeed</th>\n",
       "      <th>WindDir9am</th>\n",
       "      <th>...</th>\n",
       "      <th>Humidity9am</th>\n",
       "      <th>Humidity3pm</th>\n",
       "      <th>Pressure9am</th>\n",
       "      <th>Pressure3pm</th>\n",
       "      <th>Cloud9am</th>\n",
       "      <th>Cloud3pm</th>\n",
       "      <th>Temp9am</th>\n",
       "      <th>Temp3pm</th>\n",
       "      <th>RainToday</th>\n",
       "      <th>RainTomorrow</th>\n",
       "    </tr>\n",
       "  </thead>\n",
       "  <tbody>\n",
       "    <tr>\n",
       "      <th>0</th>\n",
       "      <td>2008-12-01</td>\n",
       "      <td>Albury</td>\n",
       "      <td>13.4</td>\n",
       "      <td>22.9</td>\n",
       "      <td>0.6</td>\n",
       "      <td>NaN</td>\n",
       "      <td>NaN</td>\n",
       "      <td>W</td>\n",
       "      <td>44.0</td>\n",
       "      <td>W</td>\n",
       "      <td>...</td>\n",
       "      <td>71.0</td>\n",
       "      <td>22.0</td>\n",
       "      <td>1007.7</td>\n",
       "      <td>1007.1</td>\n",
       "      <td>8.0</td>\n",
       "      <td>NaN</td>\n",
       "      <td>16.9</td>\n",
       "      <td>21.8</td>\n",
       "      <td>No</td>\n",
       "      <td>No</td>\n",
       "    </tr>\n",
       "    <tr>\n",
       "      <th>1</th>\n",
       "      <td>2008-12-02</td>\n",
       "      <td>Albury</td>\n",
       "      <td>7.4</td>\n",
       "      <td>25.1</td>\n",
       "      <td>0.0</td>\n",
       "      <td>NaN</td>\n",
       "      <td>NaN</td>\n",
       "      <td>WNW</td>\n",
       "      <td>44.0</td>\n",
       "      <td>NNW</td>\n",
       "      <td>...</td>\n",
       "      <td>44.0</td>\n",
       "      <td>25.0</td>\n",
       "      <td>1010.6</td>\n",
       "      <td>1007.8</td>\n",
       "      <td>NaN</td>\n",
       "      <td>NaN</td>\n",
       "      <td>17.2</td>\n",
       "      <td>24.3</td>\n",
       "      <td>No</td>\n",
       "      <td>No</td>\n",
       "    </tr>\n",
       "    <tr>\n",
       "      <th>2</th>\n",
       "      <td>2008-12-03</td>\n",
       "      <td>Albury</td>\n",
       "      <td>12.9</td>\n",
       "      <td>25.7</td>\n",
       "      <td>0.0</td>\n",
       "      <td>NaN</td>\n",
       "      <td>NaN</td>\n",
       "      <td>WSW</td>\n",
       "      <td>46.0</td>\n",
       "      <td>W</td>\n",
       "      <td>...</td>\n",
       "      <td>38.0</td>\n",
       "      <td>30.0</td>\n",
       "      <td>1007.6</td>\n",
       "      <td>1008.7</td>\n",
       "      <td>NaN</td>\n",
       "      <td>2.0</td>\n",
       "      <td>21.0</td>\n",
       "      <td>23.2</td>\n",
       "      <td>No</td>\n",
       "      <td>No</td>\n",
       "    </tr>\n",
       "    <tr>\n",
       "      <th>3</th>\n",
       "      <td>2008-12-04</td>\n",
       "      <td>Albury</td>\n",
       "      <td>9.2</td>\n",
       "      <td>28.0</td>\n",
       "      <td>0.0</td>\n",
       "      <td>NaN</td>\n",
       "      <td>NaN</td>\n",
       "      <td>NE</td>\n",
       "      <td>24.0</td>\n",
       "      <td>SE</td>\n",
       "      <td>...</td>\n",
       "      <td>45.0</td>\n",
       "      <td>16.0</td>\n",
       "      <td>1017.6</td>\n",
       "      <td>1012.8</td>\n",
       "      <td>NaN</td>\n",
       "      <td>NaN</td>\n",
       "      <td>18.1</td>\n",
       "      <td>26.5</td>\n",
       "      <td>No</td>\n",
       "      <td>No</td>\n",
       "    </tr>\n",
       "    <tr>\n",
       "      <th>4</th>\n",
       "      <td>2008-12-05</td>\n",
       "      <td>Albury</td>\n",
       "      <td>17.5</td>\n",
       "      <td>32.3</td>\n",
       "      <td>1.0</td>\n",
       "      <td>NaN</td>\n",
       "      <td>NaN</td>\n",
       "      <td>W</td>\n",
       "      <td>41.0</td>\n",
       "      <td>ENE</td>\n",
       "      <td>...</td>\n",
       "      <td>82.0</td>\n",
       "      <td>33.0</td>\n",
       "      <td>1010.8</td>\n",
       "      <td>1006.0</td>\n",
       "      <td>7.0</td>\n",
       "      <td>8.0</td>\n",
       "      <td>17.8</td>\n",
       "      <td>29.7</td>\n",
       "      <td>No</td>\n",
       "      <td>No</td>\n",
       "    </tr>\n",
       "  </tbody>\n",
       "</table>\n",
       "<p>5 rows × 23 columns</p>\n",
       "</div>"
      ],
      "text/plain": [
       "         Date Location  MinTemp  MaxTemp  Rainfall  Evaporation  Sunshine  \\\n",
       "0  2008-12-01   Albury     13.4     22.9       0.6          NaN       NaN   \n",
       "1  2008-12-02   Albury      7.4     25.1       0.0          NaN       NaN   \n",
       "2  2008-12-03   Albury     12.9     25.7       0.0          NaN       NaN   \n",
       "3  2008-12-04   Albury      9.2     28.0       0.0          NaN       NaN   \n",
       "4  2008-12-05   Albury     17.5     32.3       1.0          NaN       NaN   \n",
       "\n",
       "  WindGustDir  WindGustSpeed WindDir9am  ... Humidity9am  Humidity3pm  \\\n",
       "0           W           44.0          W  ...        71.0         22.0   \n",
       "1         WNW           44.0        NNW  ...        44.0         25.0   \n",
       "2         WSW           46.0          W  ...        38.0         30.0   \n",
       "3          NE           24.0         SE  ...        45.0         16.0   \n",
       "4           W           41.0        ENE  ...        82.0         33.0   \n",
       "\n",
       "   Pressure9am  Pressure3pm  Cloud9am  Cloud3pm  Temp9am  Temp3pm  RainToday  \\\n",
       "0       1007.7       1007.1       8.0       NaN     16.9     21.8         No   \n",
       "1       1010.6       1007.8       NaN       NaN     17.2     24.3         No   \n",
       "2       1007.6       1008.7       NaN       2.0     21.0     23.2         No   \n",
       "3       1017.6       1012.8       NaN       NaN     18.1     26.5         No   \n",
       "4       1010.8       1006.0       7.0       8.0     17.8     29.7         No   \n",
       "\n",
       "   RainTomorrow  \n",
       "0            No  \n",
       "1            No  \n",
       "2            No  \n",
       "3            No  \n",
       "4            No  \n",
       "\n",
       "[5 rows x 23 columns]"
      ]
     },
     "execution_count": 2,
     "metadata": {},
     "output_type": "execute_result"
    }
   ],
   "source": [
    "# data loading\n",
    "data = pd.read_csv('weatherAUS.csv')\n",
    "data.head()"
   ]
  },
  {
   "cell_type": "markdown",
   "metadata": {},
   "source": [
    "Dataset terdiri dari 23 atribut, antara lain:\n",
    "1. Date - tanggal hari itu\n",
    "2. Location - lokasi, nama kota di Australia\n",
    "3. MinTemp - temperatur terendah hari itu dalam celcius\n",
    "4. MaxTemp - temperatur tertinggi hari itu dalam celcius\n",
    "5. Rainfall - jumlah curah hujan hari itu dalam mm\n",
    "6. Evaporation - jumlah evaporasi dalam mm dari Class A pan selama 24 jam sebelum jam 9 pagi hari itu\n",
    "7. Sunshine - jumlah jam hari itu cerah dengan cahaya matahari\n",
    "8. WindGustDir - arah kecepatan angin yang paling tinggi selama 24 jam sebelum jam 12 malam hari itu\n",
    "9. WindGustSpeed - kecepatan angin yang paling tinggi dalam km/jam selama 24 jam sebelum jam 12 malam hari itu\n",
    "10. WindDir9am - arah angin jam 9 pagi\n",
    "11. WindDir3pm - arah angin jam 3 sore\n",
    "12. WindSpeed9am - kecepatan angin jam 9 pagi dalam km/jam dihitung dari rata-rata kecepatan angin 10 menit sebelum jam 3 sore\n",
    "13. WindSpeed3pm - kecepatan angin jam 3 sore dalam km/jam dihitung dari rata-rata kecepatan angin 10 menit sebelum jam 3 sore\n",
    "14. Humidity9am - humiditas jam 9 pagi dalam persen\n",
    "15. Humidity3pm - humiditas jam 3 sore dalam persen\n",
    "16. Pressure9am - tekanan udara jam 9 pagi dalam hpa\n",
    "17. Pressure3pm - tekanan udara jam 3 sore dalam hpa\n",
    "18. Cloud9am - persentase langit yang tertutup awan jam 9 pagi. dihitung dalam oktas, unit ⅛, menghitung berapa unit ⅛ dari langit yang tertutup awan. Jika 0, langit cerah, jika 8, langit sepenuhnya tertutup awan.\n",
    "19. Cloud3pm - persentase langit yang tertutup awan jam 3 sore\n",
    "20. Temp9am - temperatur jam 9 pagi dalam celcius\n",
    "21. Temp3pm - temperatur jam 3 sore dalam celcius\n",
    "22. RainToday - apakah hari ini hujan: jika curah hujan 24 jam sebelum jam 9 pagi melebihi 1mm, maka nilai ini adalah 1, jika tidak nilai nya 0\n",
    "23. RainTomorrow - variable yang mau di prediksi"
   ]
  },
  {
   "cell_type": "code",
   "execution_count": 3,
   "metadata": {},
   "outputs": [
    {
     "data": {
      "text/plain": [
       "(145460, 23)"
      ]
     },
     "execution_count": 3,
     "metadata": {},
     "output_type": "execute_result"
    }
   ],
   "source": [
    "data.shape"
   ]
  },
  {
   "cell_type": "markdown",
   "metadata": {},
   "source": [
    "Dataset terdiri dari 145460 baris dan 23 kolom"
   ]
  },
  {
   "cell_type": "code",
   "execution_count": 4,
   "metadata": {},
   "outputs": [
    {
     "name": "stdout",
     "output_type": "stream",
     "text": [
      "<class 'pandas.core.frame.DataFrame'>\n",
      "RangeIndex: 145460 entries, 0 to 145459\n",
      "Data columns (total 23 columns):\n",
      " #   Column         Non-Null Count   Dtype  \n",
      "---  ------         --------------   -----  \n",
      " 0   Date           145460 non-null  object \n",
      " 1   Location       145460 non-null  object \n",
      " 2   MinTemp        143975 non-null  float64\n",
      " 3   MaxTemp        144199 non-null  float64\n",
      " 4   Rainfall       142199 non-null  float64\n",
      " 5   Evaporation    82670 non-null   float64\n",
      " 6   Sunshine       75625 non-null   float64\n",
      " 7   WindGustDir    135134 non-null  object \n",
      " 8   WindGustSpeed  135197 non-null  float64\n",
      " 9   WindDir9am     134894 non-null  object \n",
      " 10  WindDir3pm     141232 non-null  object \n",
      " 11  WindSpeed9am   143693 non-null  float64\n",
      " 12  WindSpeed3pm   142398 non-null  float64\n",
      " 13  Humidity9am    142806 non-null  float64\n",
      " 14  Humidity3pm    140953 non-null  float64\n",
      " 15  Pressure9am    130395 non-null  float64\n",
      " 16  Pressure3pm    130432 non-null  float64\n",
      " 17  Cloud9am       89572 non-null   float64\n",
      " 18  Cloud3pm       86102 non-null   float64\n",
      " 19  Temp9am        143693 non-null  float64\n",
      " 20  Temp3pm        141851 non-null  float64\n",
      " 21  RainToday      142199 non-null  object \n",
      " 22  RainTomorrow   142193 non-null  object \n",
      "dtypes: float64(16), object(7)\n",
      "memory usage: 25.5+ MB\n"
     ]
    }
   ],
   "source": [
    "# cek type data\n",
    "data.info()"
   ]
  },
  {
   "cell_type": "markdown",
   "metadata": {},
   "source": [
    "## Data Cleaning"
   ]
  },
  {
   "cell_type": "code",
   "execution_count": 5,
   "metadata": {},
   "outputs": [
    {
     "name": "stdout",
     "output_type": "stream",
     "text": [
      "(112925, 17)\n"
     ]
    }
   ],
   "source": [
    "# data cleaning\n",
    "data = data.drop(columns=['Evaporation','Sunshine','Cloud3pm','Cloud9am','Date','Location'],\n",
    "                 axis=1)\n",
    "data = data.dropna(how='any')\n",
    "print(data.shape)"
   ]
  },
  {
   "cell_type": "markdown",
   "metadata": {},
   "source": [
    "Dataset terdiri dari 112925 baris dan 17 kolom"
   ]
  },
  {
   "cell_type": "code",
   "execution_count": 6,
   "metadata": {},
   "outputs": [
    {
     "data": {
      "text/html": [
       "<div>\n",
       "<style scoped>\n",
       "    .dataframe tbody tr th:only-of-type {\n",
       "        vertical-align: middle;\n",
       "    }\n",
       "\n",
       "    .dataframe tbody tr th {\n",
       "        vertical-align: top;\n",
       "    }\n",
       "\n",
       "    .dataframe thead th {\n",
       "        text-align: right;\n",
       "    }\n",
       "</style>\n",
       "<table border=\"1\" class=\"dataframe\">\n",
       "  <thead>\n",
       "    <tr style=\"text-align: right;\">\n",
       "      <th></th>\n",
       "      <th>MinTemp</th>\n",
       "      <th>MaxTemp</th>\n",
       "      <th>Rainfall</th>\n",
       "      <th>WindGustDir</th>\n",
       "      <th>WindGustSpeed</th>\n",
       "      <th>WindDir9am</th>\n",
       "      <th>WindDir3pm</th>\n",
       "      <th>WindSpeed9am</th>\n",
       "      <th>WindSpeed3pm</th>\n",
       "      <th>Humidity9am</th>\n",
       "      <th>Humidity3pm</th>\n",
       "      <th>Pressure9am</th>\n",
       "      <th>Pressure3pm</th>\n",
       "      <th>Temp9am</th>\n",
       "      <th>Temp3pm</th>\n",
       "      <th>RainToday</th>\n",
       "      <th>RainTomorrow</th>\n",
       "    </tr>\n",
       "  </thead>\n",
       "  <tbody>\n",
       "    <tr>\n",
       "      <th>0</th>\n",
       "      <td>13.4</td>\n",
       "      <td>22.9</td>\n",
       "      <td>0.6</td>\n",
       "      <td>W</td>\n",
       "      <td>44.0</td>\n",
       "      <td>W</td>\n",
       "      <td>WNW</td>\n",
       "      <td>20.0</td>\n",
       "      <td>24.0</td>\n",
       "      <td>71.0</td>\n",
       "      <td>22.0</td>\n",
       "      <td>1007.7</td>\n",
       "      <td>1007.1</td>\n",
       "      <td>16.9</td>\n",
       "      <td>21.8</td>\n",
       "      <td>No</td>\n",
       "      <td>No</td>\n",
       "    </tr>\n",
       "    <tr>\n",
       "      <th>1</th>\n",
       "      <td>7.4</td>\n",
       "      <td>25.1</td>\n",
       "      <td>0.0</td>\n",
       "      <td>WNW</td>\n",
       "      <td>44.0</td>\n",
       "      <td>NNW</td>\n",
       "      <td>WSW</td>\n",
       "      <td>4.0</td>\n",
       "      <td>22.0</td>\n",
       "      <td>44.0</td>\n",
       "      <td>25.0</td>\n",
       "      <td>1010.6</td>\n",
       "      <td>1007.8</td>\n",
       "      <td>17.2</td>\n",
       "      <td>24.3</td>\n",
       "      <td>No</td>\n",
       "      <td>No</td>\n",
       "    </tr>\n",
       "    <tr>\n",
       "      <th>2</th>\n",
       "      <td>12.9</td>\n",
       "      <td>25.7</td>\n",
       "      <td>0.0</td>\n",
       "      <td>WSW</td>\n",
       "      <td>46.0</td>\n",
       "      <td>W</td>\n",
       "      <td>WSW</td>\n",
       "      <td>19.0</td>\n",
       "      <td>26.0</td>\n",
       "      <td>38.0</td>\n",
       "      <td>30.0</td>\n",
       "      <td>1007.6</td>\n",
       "      <td>1008.7</td>\n",
       "      <td>21.0</td>\n",
       "      <td>23.2</td>\n",
       "      <td>No</td>\n",
       "      <td>No</td>\n",
       "    </tr>\n",
       "    <tr>\n",
       "      <th>3</th>\n",
       "      <td>9.2</td>\n",
       "      <td>28.0</td>\n",
       "      <td>0.0</td>\n",
       "      <td>NE</td>\n",
       "      <td>24.0</td>\n",
       "      <td>SE</td>\n",
       "      <td>E</td>\n",
       "      <td>11.0</td>\n",
       "      <td>9.0</td>\n",
       "      <td>45.0</td>\n",
       "      <td>16.0</td>\n",
       "      <td>1017.6</td>\n",
       "      <td>1012.8</td>\n",
       "      <td>18.1</td>\n",
       "      <td>26.5</td>\n",
       "      <td>No</td>\n",
       "      <td>No</td>\n",
       "    </tr>\n",
       "    <tr>\n",
       "      <th>4</th>\n",
       "      <td>17.5</td>\n",
       "      <td>32.3</td>\n",
       "      <td>1.0</td>\n",
       "      <td>W</td>\n",
       "      <td>41.0</td>\n",
       "      <td>ENE</td>\n",
       "      <td>NW</td>\n",
       "      <td>7.0</td>\n",
       "      <td>20.0</td>\n",
       "      <td>82.0</td>\n",
       "      <td>33.0</td>\n",
       "      <td>1010.8</td>\n",
       "      <td>1006.0</td>\n",
       "      <td>17.8</td>\n",
       "      <td>29.7</td>\n",
       "      <td>No</td>\n",
       "      <td>No</td>\n",
       "    </tr>\n",
       "  </tbody>\n",
       "</table>\n",
       "</div>"
      ],
      "text/plain": [
       "   MinTemp  MaxTemp  Rainfall WindGustDir  WindGustSpeed WindDir9am  \\\n",
       "0     13.4     22.9       0.6           W           44.0          W   \n",
       "1      7.4     25.1       0.0         WNW           44.0        NNW   \n",
       "2     12.9     25.7       0.0         WSW           46.0          W   \n",
       "3      9.2     28.0       0.0          NE           24.0         SE   \n",
       "4     17.5     32.3       1.0           W           41.0        ENE   \n",
       "\n",
       "  WindDir3pm  WindSpeed9am  WindSpeed3pm  Humidity9am  Humidity3pm  \\\n",
       "0        WNW          20.0          24.0         71.0         22.0   \n",
       "1        WSW           4.0          22.0         44.0         25.0   \n",
       "2        WSW          19.0          26.0         38.0         30.0   \n",
       "3          E          11.0           9.0         45.0         16.0   \n",
       "4         NW           7.0          20.0         82.0         33.0   \n",
       "\n",
       "   Pressure9am  Pressure3pm  Temp9am  Temp3pm RainToday RainTomorrow  \n",
       "0       1007.7       1007.1     16.9     21.8        No           No  \n",
       "1       1010.6       1007.8     17.2     24.3        No           No  \n",
       "2       1007.6       1008.7     21.0     23.2        No           No  \n",
       "3       1017.6       1012.8     18.1     26.5        No           No  \n",
       "4       1010.8       1006.0     17.8     29.7        No           No  "
      ]
     },
     "execution_count": 6,
     "metadata": {},
     "output_type": "execute_result"
    }
   ],
   "source": [
    "data.head()"
   ]
  },
  {
   "cell_type": "markdown",
   "metadata": {},
   "source": [
    "## Exploratory Data Analysis"
   ]
  },
  {
   "cell_type": "code",
   "execution_count": 7,
   "metadata": {},
   "outputs": [
    {
     "data": {
      "text/plain": [
       "<AxesSubplot:>"
      ]
     },
     "execution_count": 7,
     "metadata": {},
     "output_type": "execute_result"
    },
    {
     "data": {
      "image/png": "[encoded data removed]",
      "text/plain": [
       "<Figure size 432x288 with 1 Axes>"
      ]
     },
     "metadata": {
      "needs_background": "light"
     },
     "output_type": "display_data"
    }
   ],
   "source": [
    "# variabel dependen\n",
    "data['RainTomorrow'].value_counts().plot(kind='bar')"
   ]
  },
  {
   "cell_type": "markdown",
   "metadata": {},
   "source": [
    "Berdasarkan bar chart, prediksi bahwa hari esok tidak terjadi hujan lebih banyak dibandingkan prediksi bahwa hari esok terjadi hujan."
   ]
  },
  {
   "cell_type": "code",
   "execution_count": 8,
   "metadata": {},
   "outputs": [
    {
     "data": {
      "text/plain": [
       "<AxesSubplot:>"
      ]
     },
     "execution_count": 8,
     "metadata": {},
     "output_type": "execute_result"
    },
    {
     "data": {
      "image/png": "[encoded data removed]",
      "text/plain": [
       "<Figure size 720x720 with 2 Axes>"
      ]
     },
     "metadata": {
      "needs_background": "light"
     },
     "output_type": "display_data"
    }
   ],
   "source": [
    "# plot heatmap untuk melihat korelasi antar variabel\n",
    "plt.figure(figsize=(10,10))\n",
    "sns.heatmap(data.corr(),annot=True, mask=np.triu(data.corr()))"
   ]
  },
  {
   "cell_type": "markdown",
   "metadata": {},
   "source": [
    "Berdasarkan heatmap, terjadi korelasi positif yang kuat antara variabel MaxTemp & Temp3pm, antara variabel Pressure9am & Pressure 3pm, dan antara variabel MinTemp & Temp9an. Sedangkan korelasi negatif sedang terjadi antara variabel Humidity3pm & Temp3pm, antara variabel MaxTemp & Humidity9am, dan antara variabel Humidity9am & Temp3pm."
   ]
  },
  {
   "cell_type": "markdown",
   "metadata": {},
   "source": [
    "## Preprocessing"
   ]
  },
  {
   "cell_type": "code",
   "execution_count": 9,
   "metadata": {},
   "outputs": [],
   "source": [
    "# mengganti No (0) dan Yes (1) pada kolom RainToday dan RainTomorrow\n",
    "data['RainToday'].replace({'No': 0, 'Yes': 1},inplace = True)\n",
    "data['RainTomorrow'].replace({'No': 0, 'Yes': 1},inplace = True)"
   ]
  },
  {
   "cell_type": "code",
   "execution_count": 10,
   "metadata": {},
   "outputs": [
    {
     "name": "stdout",
     "output_type": "stream",
     "text": [
      "(112925, 62)\n"
     ]
    },
    {
     "data": {
      "text/html": [
       "<div>\n",
       "<style scoped>\n",
       "    .dataframe tbody tr th:only-of-type {\n",
       "        vertical-align: middle;\n",
       "    }\n",
       "\n",
       "    .dataframe tbody tr th {\n",
       "        vertical-align: top;\n",
       "    }\n",
       "\n",
       "    .dataframe thead th {\n",
       "        text-align: right;\n",
       "    }\n",
       "</style>\n",
       "<table border=\"1\" class=\"dataframe\">\n",
       "  <thead>\n",
       "    <tr style=\"text-align: right;\">\n",
       "      <th></th>\n",
       "      <th>MinTemp</th>\n",
       "      <th>MaxTemp</th>\n",
       "      <th>Rainfall</th>\n",
       "      <th>WindGustSpeed</th>\n",
       "      <th>WindSpeed9am</th>\n",
       "      <th>WindSpeed3pm</th>\n",
       "      <th>Humidity9am</th>\n",
       "      <th>Humidity3pm</th>\n",
       "      <th>Pressure9am</th>\n",
       "      <th>Pressure3pm</th>\n",
       "      <th>...</th>\n",
       "      <th>WindDir9am_NNW</th>\n",
       "      <th>WindDir9am_NW</th>\n",
       "      <th>WindDir9am_S</th>\n",
       "      <th>WindDir9am_SE</th>\n",
       "      <th>WindDir9am_SSE</th>\n",
       "      <th>WindDir9am_SSW</th>\n",
       "      <th>WindDir9am_SW</th>\n",
       "      <th>WindDir9am_W</th>\n",
       "      <th>WindDir9am_WNW</th>\n",
       "      <th>WindDir9am_WSW</th>\n",
       "    </tr>\n",
       "  </thead>\n",
       "  <tbody>\n",
       "    <tr>\n",
       "      <th>0</th>\n",
       "      <td>13.4</td>\n",
       "      <td>22.9</td>\n",
       "      <td>0.6</td>\n",
       "      <td>44.0</td>\n",
       "      <td>20.0</td>\n",
       "      <td>24.0</td>\n",
       "      <td>71.0</td>\n",
       "      <td>22.0</td>\n",
       "      <td>1007.7</td>\n",
       "      <td>1007.1</td>\n",
       "      <td>...</td>\n",
       "      <td>0</td>\n",
       "      <td>0</td>\n",
       "      <td>0</td>\n",
       "      <td>0</td>\n",
       "      <td>0</td>\n",
       "      <td>0</td>\n",
       "      <td>0</td>\n",
       "      <td>1</td>\n",
       "      <td>0</td>\n",
       "      <td>0</td>\n",
       "    </tr>\n",
       "    <tr>\n",
       "      <th>1</th>\n",
       "      <td>7.4</td>\n",
       "      <td>25.1</td>\n",
       "      <td>0.0</td>\n",
       "      <td>44.0</td>\n",
       "      <td>4.0</td>\n",
       "      <td>22.0</td>\n",
       "      <td>44.0</td>\n",
       "      <td>25.0</td>\n",
       "      <td>1010.6</td>\n",
       "      <td>1007.8</td>\n",
       "      <td>...</td>\n",
       "      <td>1</td>\n",
       "      <td>0</td>\n",
       "      <td>0</td>\n",
       "      <td>0</td>\n",
       "      <td>0</td>\n",
       "      <td>0</td>\n",
       "      <td>0</td>\n",
       "      <td>0</td>\n",
       "      <td>0</td>\n",
       "      <td>0</td>\n",
       "    </tr>\n",
       "    <tr>\n",
       "      <th>2</th>\n",
       "      <td>12.9</td>\n",
       "      <td>25.7</td>\n",
       "      <td>0.0</td>\n",
       "      <td>46.0</td>\n",
       "      <td>19.0</td>\n",
       "      <td>26.0</td>\n",
       "      <td>38.0</td>\n",
       "      <td>30.0</td>\n",
       "      <td>1007.6</td>\n",
       "      <td>1008.7</td>\n",
       "      <td>...</td>\n",
       "      <td>0</td>\n",
       "      <td>0</td>\n",
       "      <td>0</td>\n",
       "      <td>0</td>\n",
       "      <td>0</td>\n",
       "      <td>0</td>\n",
       "      <td>0</td>\n",
       "      <td>1</td>\n",
       "      <td>0</td>\n",
       "      <td>0</td>\n",
       "    </tr>\n",
       "    <tr>\n",
       "      <th>3</th>\n",
       "      <td>9.2</td>\n",
       "      <td>28.0</td>\n",
       "      <td>0.0</td>\n",
       "      <td>24.0</td>\n",
       "      <td>11.0</td>\n",
       "      <td>9.0</td>\n",
       "      <td>45.0</td>\n",
       "      <td>16.0</td>\n",
       "      <td>1017.6</td>\n",
       "      <td>1012.8</td>\n",
       "      <td>...</td>\n",
       "      <td>0</td>\n",
       "      <td>0</td>\n",
       "      <td>0</td>\n",
       "      <td>1</td>\n",
       "      <td>0</td>\n",
       "      <td>0</td>\n",
       "      <td>0</td>\n",
       "      <td>0</td>\n",
       "      <td>0</td>\n",
       "      <td>0</td>\n",
       "    </tr>\n",
       "    <tr>\n",
       "      <th>4</th>\n",
       "      <td>17.5</td>\n",
       "      <td>32.3</td>\n",
       "      <td>1.0</td>\n",
       "      <td>41.0</td>\n",
       "      <td>7.0</td>\n",
       "      <td>20.0</td>\n",
       "      <td>82.0</td>\n",
       "      <td>33.0</td>\n",
       "      <td>1010.8</td>\n",
       "      <td>1006.0</td>\n",
       "      <td>...</td>\n",
       "      <td>0</td>\n",
       "      <td>0</td>\n",
       "      <td>0</td>\n",
       "      <td>0</td>\n",
       "      <td>0</td>\n",
       "      <td>0</td>\n",
       "      <td>0</td>\n",
       "      <td>0</td>\n",
       "      <td>0</td>\n",
       "      <td>0</td>\n",
       "    </tr>\n",
       "  </tbody>\n",
       "</table>\n",
       "<p>5 rows × 62 columns</p>\n",
       "</div>"
      ],
      "text/plain": [
       "   MinTemp  MaxTemp  Rainfall  WindGustSpeed  WindSpeed9am  WindSpeed3pm  \\\n",
       "0     13.4     22.9       0.6           44.0          20.0          24.0   \n",
       "1      7.4     25.1       0.0           44.0           4.0          22.0   \n",
       "2     12.9     25.7       0.0           46.0          19.0          26.0   \n",
       "3      9.2     28.0       0.0           24.0          11.0           9.0   \n",
       "4     17.5     32.3       1.0           41.0           7.0          20.0   \n",
       "\n",
       "   Humidity9am  Humidity3pm  Pressure9am  Pressure3pm  ...  WindDir9am_NNW  \\\n",
       "0         71.0         22.0       1007.7       1007.1  ...               0   \n",
       "1         44.0         25.0       1010.6       1007.8  ...               1   \n",
       "2         38.0         30.0       1007.6       1008.7  ...               0   \n",
       "3         45.0         16.0       1017.6       1012.8  ...               0   \n",
       "4         82.0         33.0       1010.8       1006.0  ...               0   \n",
       "\n",
       "   WindDir9am_NW  WindDir9am_S  WindDir9am_SE  WindDir9am_SSE  WindDir9am_SSW  \\\n",
       "0              0             0              0               0               0   \n",
       "1              0             0              0               0               0   \n",
       "2              0             0              0               0               0   \n",
       "3              0             0              1               0               0   \n",
       "4              0             0              0               0               0   \n",
       "\n",
       "   WindDir9am_SW  WindDir9am_W  WindDir9am_WNW  WindDir9am_WSW  \n",
       "0              0             1               0               0  \n",
       "1              0             0               0               0  \n",
       "2              0             1               0               0  \n",
       "3              0             0               0               0  \n",
       "4              0             0               0               0  \n",
       "\n",
       "[5 rows x 62 columns]"
      ]
     },
     "execution_count": 10,
     "metadata": {},
     "output_type": "execute_result"
    }
   ],
   "source": [
    "# categorical variables WindGustDir, WindDir3pm and WindDir9am pada dummy variables masing-masing kategori\n",
    "categoric_c = ['WindGustDir', 'WindDir3pm', 'WindDir9am']\n",
    "datafinal = pd.get_dummies(data, columns=categoric_c)\n",
    "print(datafinal.shape)\n",
    "datafinal.head()"
   ]
  },
  {
   "cell_type": "markdown",
   "metadata": {},
   "source": [
    "Dataset data final terdiri dari 112925 baris dan 62 kolom"
   ]
  },
  {
   "cell_type": "code",
   "execution_count": 11,
   "metadata": {},
   "outputs": [
    {
     "data": {
      "text/html": [
       "<div>\n",
       "<style scoped>\n",
       "    .dataframe tbody tr th:only-of-type {\n",
       "        vertical-align: middle;\n",
       "    }\n",
       "\n",
       "    .dataframe tbody tr th {\n",
       "        vertical-align: top;\n",
       "    }\n",
       "\n",
       "    .dataframe thead th {\n",
       "        text-align: right;\n",
       "    }\n",
       "</style>\n",
       "<table border=\"1\" class=\"dataframe\">\n",
       "  <thead>\n",
       "    <tr style=\"text-align: right;\">\n",
       "      <th></th>\n",
       "      <th>MinTemp</th>\n",
       "      <th>MaxTemp</th>\n",
       "      <th>Rainfall</th>\n",
       "      <th>WindGustSpeed</th>\n",
       "      <th>WindSpeed9am</th>\n",
       "      <th>WindSpeed3pm</th>\n",
       "      <th>Humidity9am</th>\n",
       "      <th>Humidity3pm</th>\n",
       "      <th>Pressure9am</th>\n",
       "      <th>Pressure3pm</th>\n",
       "      <th>...</th>\n",
       "      <th>WindDir9am_NNW</th>\n",
       "      <th>WindDir9am_NW</th>\n",
       "      <th>WindDir9am_S</th>\n",
       "      <th>WindDir9am_SE</th>\n",
       "      <th>WindDir9am_SSE</th>\n",
       "      <th>WindDir9am_SSW</th>\n",
       "      <th>WindDir9am_SW</th>\n",
       "      <th>WindDir9am_W</th>\n",
       "      <th>WindDir9am_WNW</th>\n",
       "      <th>WindDir9am_WSW</th>\n",
       "    </tr>\n",
       "  </thead>\n",
       "  <tbody>\n",
       "    <tr>\n",
       "      <th>0</th>\n",
       "      <td>0.513064</td>\n",
       "      <td>0.446154</td>\n",
       "      <td>0.001632</td>\n",
       "      <td>0.289062</td>\n",
       "      <td>0.211765</td>\n",
       "      <td>0.258824</td>\n",
       "      <td>0.71</td>\n",
       "      <td>0.22</td>\n",
       "      <td>0.449587</td>\n",
       "      <td>0.4800</td>\n",
       "      <td>...</td>\n",
       "      <td>0.0</td>\n",
       "      <td>0.0</td>\n",
       "      <td>0.0</td>\n",
       "      <td>0.0</td>\n",
       "      <td>0.0</td>\n",
       "      <td>0.0</td>\n",
       "      <td>0.0</td>\n",
       "      <td>1.0</td>\n",
       "      <td>0.0</td>\n",
       "      <td>0.0</td>\n",
       "    </tr>\n",
       "    <tr>\n",
       "      <th>1</th>\n",
       "      <td>0.370546</td>\n",
       "      <td>0.494505</td>\n",
       "      <td>0.000000</td>\n",
       "      <td>0.289062</td>\n",
       "      <td>0.023529</td>\n",
       "      <td>0.235294</td>\n",
       "      <td>0.44</td>\n",
       "      <td>0.25</td>\n",
       "      <td>0.497521</td>\n",
       "      <td>0.4912</td>\n",
       "      <td>...</td>\n",
       "      <td>1.0</td>\n",
       "      <td>0.0</td>\n",
       "      <td>0.0</td>\n",
       "      <td>0.0</td>\n",
       "      <td>0.0</td>\n",
       "      <td>0.0</td>\n",
       "      <td>0.0</td>\n",
       "      <td>0.0</td>\n",
       "      <td>0.0</td>\n",
       "      <td>0.0</td>\n",
       "    </tr>\n",
       "    <tr>\n",
       "      <th>2</th>\n",
       "      <td>0.501188</td>\n",
       "      <td>0.507692</td>\n",
       "      <td>0.000000</td>\n",
       "      <td>0.304688</td>\n",
       "      <td>0.200000</td>\n",
       "      <td>0.282353</td>\n",
       "      <td>0.38</td>\n",
       "      <td>0.30</td>\n",
       "      <td>0.447934</td>\n",
       "      <td>0.5056</td>\n",
       "      <td>...</td>\n",
       "      <td>0.0</td>\n",
       "      <td>0.0</td>\n",
       "      <td>0.0</td>\n",
       "      <td>0.0</td>\n",
       "      <td>0.0</td>\n",
       "      <td>0.0</td>\n",
       "      <td>0.0</td>\n",
       "      <td>1.0</td>\n",
       "      <td>0.0</td>\n",
       "      <td>0.0</td>\n",
       "    </tr>\n",
       "    <tr>\n",
       "      <th>3</th>\n",
       "      <td>0.413302</td>\n",
       "      <td>0.558242</td>\n",
       "      <td>0.000000</td>\n",
       "      <td>0.132812</td>\n",
       "      <td>0.105882</td>\n",
       "      <td>0.082353</td>\n",
       "      <td>0.45</td>\n",
       "      <td>0.16</td>\n",
       "      <td>0.613223</td>\n",
       "      <td>0.5712</td>\n",
       "      <td>...</td>\n",
       "      <td>0.0</td>\n",
       "      <td>0.0</td>\n",
       "      <td>0.0</td>\n",
       "      <td>1.0</td>\n",
       "      <td>0.0</td>\n",
       "      <td>0.0</td>\n",
       "      <td>0.0</td>\n",
       "      <td>0.0</td>\n",
       "      <td>0.0</td>\n",
       "      <td>0.0</td>\n",
       "    </tr>\n",
       "    <tr>\n",
       "      <th>4</th>\n",
       "      <td>0.610451</td>\n",
       "      <td>0.652747</td>\n",
       "      <td>0.002720</td>\n",
       "      <td>0.265625</td>\n",
       "      <td>0.058824</td>\n",
       "      <td>0.211765</td>\n",
       "      <td>0.82</td>\n",
       "      <td>0.33</td>\n",
       "      <td>0.500826</td>\n",
       "      <td>0.4624</td>\n",
       "      <td>...</td>\n",
       "      <td>0.0</td>\n",
       "      <td>0.0</td>\n",
       "      <td>0.0</td>\n",
       "      <td>0.0</td>\n",
       "      <td>0.0</td>\n",
       "      <td>0.0</td>\n",
       "      <td>0.0</td>\n",
       "      <td>0.0</td>\n",
       "      <td>0.0</td>\n",
       "      <td>0.0</td>\n",
       "    </tr>\n",
       "  </tbody>\n",
       "</table>\n",
       "<p>5 rows × 62 columns</p>\n",
       "</div>"
      ],
      "text/plain": [
       "    MinTemp   MaxTemp  Rainfall  WindGustSpeed  WindSpeed9am  WindSpeed3pm  \\\n",
       "0  0.513064  0.446154  0.001632       0.289062      0.211765      0.258824   \n",
       "1  0.370546  0.494505  0.000000       0.289062      0.023529      0.235294   \n",
       "2  0.501188  0.507692  0.000000       0.304688      0.200000      0.282353   \n",
       "3  0.413302  0.558242  0.000000       0.132812      0.105882      0.082353   \n",
       "4  0.610451  0.652747  0.002720       0.265625      0.058824      0.211765   \n",
       "\n",
       "   Humidity9am  Humidity3pm  Pressure9am  Pressure3pm  ...  WindDir9am_NNW  \\\n",
       "0         0.71         0.22     0.449587       0.4800  ...             0.0   \n",
       "1         0.44         0.25     0.497521       0.4912  ...             1.0   \n",
       "2         0.38         0.30     0.447934       0.5056  ...             0.0   \n",
       "3         0.45         0.16     0.613223       0.5712  ...             0.0   \n",
       "4         0.82         0.33     0.500826       0.4624  ...             0.0   \n",
       "\n",
       "   WindDir9am_NW  WindDir9am_S  WindDir9am_SE  WindDir9am_SSE  WindDir9am_SSW  \\\n",
       "0            0.0           0.0            0.0             0.0             0.0   \n",
       "1            0.0           0.0            0.0             0.0             0.0   \n",
       "2            0.0           0.0            0.0             0.0             0.0   \n",
       "3            0.0           0.0            1.0             0.0             0.0   \n",
       "4            0.0           0.0            0.0             0.0             0.0   \n",
       "\n",
       "   WindDir9am_SW  WindDir9am_W  WindDir9am_WNW  WindDir9am_WSW  \n",
       "0            0.0           1.0             0.0             0.0  \n",
       "1            0.0           0.0             0.0             0.0  \n",
       "2            0.0           1.0             0.0             0.0  \n",
       "3            0.0           0.0             0.0             0.0  \n",
       "4            0.0           0.0             0.0             0.0  \n",
       "\n",
       "[5 rows x 62 columns]"
      ]
     },
     "execution_count": 11,
     "metadata": {},
     "output_type": "execute_result"
    }
   ],
   "source": [
    "# preprocessing MinMaxScaler\n",
    "standa = preprocessing.MinMaxScaler()\n",
    "standa.fit(datafinal)\n",
    "datafinal = pd.DataFrame(standa.transform(datafinal), index=datafinal.index, columns=datafinal.columns)\n",
    "datafinal.head()"
   ]
  },
  {
   "cell_type": "code",
   "execution_count": 12,
   "metadata": {},
   "outputs": [
    {
     "name": "stdout",
     "output_type": "stream",
     "text": [
      "Var correlation < 0.5%                  RainTomorrow\n",
      "WindGustDir_S        0.001759\n",
      "WindGustDir_SSW      0.003007\n",
      "WindDir3pm_SSW       0.003230\n",
      "WindDir3pm_WSW       0.002857\n",
      "WindDir9am_SW        0.004053\n"
     ]
    }
   ],
   "source": [
    "# correlation matrix\n",
    "corr = datafinal.corr()\n",
    "corr1 = pd.DataFrame(abs(corr['RainTomorrow']),columns = ['RainTomorrow'])\n",
    "nonvals = corr1.loc[corr1['RainTomorrow'] < 0.005]\n",
    "print('Var correlation < 0.5%',nonvals)\n",
    "nonvals = list(nonvals.index.values)"
   ]
  },
  {
   "cell_type": "markdown",
   "metadata": {},
   "source": [
    "Karena variabel-variabel diatas memiliki nilai korelasi < 0.5%, maka variabel-variabel tersebut dapat dihapus. Sehingga dataset data final terdiri dari 112925 baris dan 57 kolom."
   ]
  },
  {
   "cell_type": "code",
   "execution_count": 13,
   "metadata": {},
   "outputs": [
    {
     "name": "stdout",
     "output_type": "stream",
     "text": [
      "Data Final (112925, 57)\n"
     ]
    }
   ],
   "source": [
    "# mengahapus variables dengan correlation < 0.5%\n",
    "datafinal1 = datafinal.drop(columns=nonvals,axis=1)\n",
    "print('Data Final',datafinal1.shape)"
   ]
  },
  {
   "cell_type": "code",
   "execution_count": 14,
   "metadata": {},
   "outputs": [],
   "source": [
    "# split data train dan test\n",
    "Y = datafinal1['RainTomorrow']\n",
    "X = datafinal1.drop(columns=['RainTomorrow'])\n",
    "X_train, X_test, Y_train, Y_test = train_test_split(X, Y, test_size=0.2, random_state=9)"
   ]
  },
  {
   "cell_type": "code",
   "execution_count": 15,
   "metadata": {},
   "outputs": [
    {
     "name": "stdout",
     "output_type": "stream",
     "text": [
      "X train shape:  (90340, 56)\n",
      "Y train shape:  (90340,)\n",
      "X test shape:  (22585, 56)\n",
      "Y test shape:  (22585,)\n"
     ]
    }
   ],
   "source": [
    "print('X train shape: ', X_train.shape)\n",
    "print('Y train shape: ', Y_train.shape)\n",
    "print('X test shape: ', X_test.shape)\n",
    "print('Y test shape: ', Y_test.shape)"
   ]
  },
  {
   "cell_type": "markdown",
   "metadata": {},
   "source": [
    "## Modelling"
   ]
  },
  {
   "cell_type": "markdown",
   "metadata": {},
   "source": [
    "### Logistic Regression"
   ]
  },
  {
   "cell_type": "code",
   "execution_count": 16,
   "metadata": {},
   "outputs": [
    {
     "name": "stderr",
     "output_type": "stream",
     "text": [
      "C:\\Users\\Farah\\anaconda3\\lib\\site-packages\\sklearn\\linear_model\\_logistic.py:762: ConvergenceWarning: lbfgs failed to converge (status=1):\n",
      "STOP: TOTAL NO. of ITERATIONS REACHED LIMIT.\n",
      "\n",
      "Increase the number of iterations (max_iter) or scale the data as shown in:\n",
      "    https://scikit-learn.org/stable/modules/preprocessing.html\n",
      "Please also refer to the documentation for alternative solver options:\n",
      "    https://scikit-learn.org/stable/modules/linear_model.html#logistic-regression\n",
      "  n_iter_i = _check_optimize_result(\n"
     ]
    }
   ],
   "source": [
    "# logistic regression\n",
    "# mendefinisikan model\n",
    "logreg = LogisticRegression(C=10)\n",
    "\n",
    "# training model\n",
    "logreg.fit(X_train, Y_train)\n",
    "\n",
    "# predict target values\n",
    "Y_predict1 = logreg.predict(X_test)"
   ]
  },
  {
   "cell_type": "code",
   "execution_count": 17,
   "metadata": {},
   "outputs": [
    {
     "data": {
      "image/png": "[encoded data removed]",
      "text/plain": [
       "<Figure size 360x360 with 2 Axes>"
      ]
     },
     "metadata": {
      "needs_background": "light"
     },
     "output_type": "display_data"
    }
   ],
   "source": [
    "# confusion matrix\n",
    "logreg_cm = confusion_matrix(Y_test, Y_predict1)\n",
    "f, ax = plt.subplots(figsize=(5,5))\n",
    "sns.heatmap(logreg_cm, annot=True, linewidth=0.7, linecolor='cyan', fmt='g', ax=ax, cmap=\"YlGnBu\")\n",
    "plt.title('Logistic Regression Classification Confusion Matrix')\n",
    "plt.xlabel('Y predict')\n",
    "plt.ylabel('Y test')\n",
    "plt.show()"
   ]
  },
  {
   "cell_type": "markdown",
   "metadata": {},
   "source": [
    "Berdasarkan Logistic Regression Confusion Matrix, diperoleh hasil sebagai berikut:\n",
    "1. “True Positive” - Frekuensi prediksi bahwa esok hari tidak terjadi hujan (0) dan sesuai dengan data aktual bahwa esok hari tidak terjadi hujan (0) sebanyak 16693.\n",
    "2. “False Positive” - Frekuensi prediksi bahwa esok hari tidak terjadi hujan (0), namun pada data aktual menunjukkan bahwa esok hari terjadi hujan (1) sebanyak 929.\n",
    "3. “False Negative” - Frekuensi prediksi bahwa esok hari terjadi hujan (1), namun pada data aktual menunjukkan bahwa esok hari tidak terjadi hujan (0) sebanyak 2472.\n",
    "4. \"True Positive\" - Frekuensi prediksi bahwa esok hari terjadi hujan (1) dan sesuai dengan data aktual bahwa esok hari terjadi hujan (1) sebanyak 2491."
   ]
  },
  {
   "cell_type": "code",
   "execution_count": 18,
   "metadata": {},
   "outputs": [
    {
     "name": "stdout",
     "output_type": "stream",
     "text": [
      "0.84941332742971\n"
     ]
    }
   ],
   "source": [
    "# test score\n",
    "score_logreg = logreg.score(X_test, Y_test)\n",
    "print(score_logreg)"
   ]
  },
  {
   "cell_type": "code",
   "execution_count": 19,
   "metadata": {},
   "outputs": [
    {
     "name": "stdout",
     "output_type": "stream",
     "text": [
      "Accuracy Score: 0.84941332742971\n",
      "              precision    recall  f1-score   support\n",
      "\n",
      "         0.0       0.87      0.95      0.91     17622\n",
      "         1.0       0.73      0.50      0.59      4963\n",
      "\n",
      "    accuracy                           0.85     22585\n",
      "   macro avg       0.80      0.72      0.75     22585\n",
      "weighted avg       0.84      0.85      0.84     22585\n",
      "\n"
     ]
    }
   ],
   "source": [
    "print(\"Accuracy Score:\", accuracy_score(Y_test, Y_predict1))\n",
    "print(classification_report(Y_test, Y_predict1))"
   ]
  },
  {
   "cell_type": "markdown",
   "metadata": {},
   "source": [
    "### K-Nearest Neighbors"
   ]
  },
  {
   "cell_type": "code",
   "execution_count": 20,
   "metadata": {},
   "outputs": [],
   "source": [
    "# K-Nearest Neighbors \n",
    "# mendefinisikan model\n",
    "knncla = KNeighborsClassifier(n_neighbors=15,n_jobs=-1)\n",
    "\n",
    "# training model\n",
    "knncla.fit(X_train, Y_train)\n",
    "\n",
    "# predict target values\n",
    "Y_predict2 = knncla.predict(X_test)"
   ]
  },
  {
   "cell_type": "code",
   "execution_count": 21,
   "metadata": {},
   "outputs": [
    {
     "data": {
      "image/png": "[encoded data removed]",
      "text/plain": [
       "<Figure size 360x360 with 2 Axes>"
      ]
     },
     "metadata": {
      "needs_background": "light"
     },
     "output_type": "display_data"
    }
   ],
   "source": [
    "# confusion matrix\n",
    "knncla_cm = confusion_matrix(Y_test, Y_predict2)\n",
    "f, ax = plt.subplots(figsize=(5,5))\n",
    "sns.heatmap(knncla_cm, annot=True, linewidth=0.7, linecolor='cyan', fmt='g', ax=ax, cmap=\"YlGnBu\")\n",
    "plt.title('KNN Classification Confusion Matrix')\n",
    "plt.xlabel('Y predict')\n",
    "plt.ylabel('Y test')\n",
    "plt.show()"
   ]
  },
  {
   "cell_type": "markdown",
   "metadata": {},
   "source": [
    "Berdasarkan KNN Confusion Matrix, diperoleh hasil sebagai berikut:\n",
    "1. “True Positive” - Frekuensi prediksi bahwa esok hari tidak terjadi hujan (0) dan sesuai dengan data aktual bahwa esok hari tidak terjadi hujan (0) sebanyak 16896.\n",
    "2. “False Positive” - Frekuensi prediksi bahwa esok hari tidak terjadi hujan (0), namun pada data aktual menunjukkan bahwa esok hari terjadi hujan (1) sebanyak 726.\n",
    "3. “False Negative” - Frekuensi prediksi bahwa esok hari terjadi hujan (1), namun pada data aktual menunjukkan bahwa esok hari tidak terjadi hujan (0) sebanyak 3411.\n",
    "4. \"True Positive\" - Frekuensi prediksi bahwa esok hari terjadi hujan (1) dan sesuai dengan data aktual bahwa esok hari terjadi hujan (1) sebanyak 1552."
   ]
  },
  {
   "cell_type": "code",
   "execution_count": 22,
   "metadata": {},
   "outputs": [
    {
     "name": "stdout",
     "output_type": "stream",
     "text": [
      "0.8168253265441665\n"
     ]
    }
   ],
   "source": [
    "# test score\n",
    "score_knncla= knncla.score(X_test, Y_test)\n",
    "print(score_knncla)"
   ]
  },
  {
   "cell_type": "code",
   "execution_count": 23,
   "metadata": {},
   "outputs": [
    {
     "name": "stdout",
     "output_type": "stream",
     "text": [
      "Accuracy Score: 0.8168253265441665\n",
      "              precision    recall  f1-score   support\n",
      "\n",
      "         0.0       0.83      0.96      0.89     17622\n",
      "         1.0       0.68      0.31      0.43      4963\n",
      "\n",
      "    accuracy                           0.82     22585\n",
      "   macro avg       0.76      0.64      0.66     22585\n",
      "weighted avg       0.80      0.82      0.79     22585\n",
      "\n"
     ]
    }
   ],
   "source": [
    "print(\"Accuracy Score:\", accuracy_score(Y_test, Y_predict2))\n",
    "print(classification_report(Y_test, Y_predict2))"
   ]
  },
  {
   "cell_type": "markdown",
   "metadata": {},
   "source": [
    "### Support Vector Machine"
   ]
  },
  {
   "cell_type": "code",
   "execution_count": 24,
   "metadata": {},
   "outputs": [],
   "source": [
    "# mendefinisikan SVM model\n",
    "svm = SVC()\n",
    "\n",
    "# training model\n",
    "svm.fit(X_train, Y_train)\n",
    "\n",
    "# predict target values\n",
    "Y_predict3 = svm.predict(X_test)"
   ]
  },
  {
   "cell_type": "code",
   "execution_count": 25,
   "metadata": {},
   "outputs": [
    {
     "data": {
      "image/png": "[encoded data removed]",
      "text/plain": [
       "<Figure size 360x360 with 2 Axes>"
      ]
     },
     "metadata": {
      "needs_background": "light"
     },
     "output_type": "display_data"
    }
   ],
   "source": [
    "# confusion matrix\n",
    "svmcla_cm = confusion_matrix(Y_test, Y_predict3)\n",
    "f, ax = plt.subplots(figsize=(5,5))\n",
    "sns.heatmap(svmcla_cm, annot=True, linewidth=0.7, linecolor='cyan', fmt='g', ax=ax, cmap=\"YlGnBu\")\n",
    "plt.title('SVM Classification Confusion Matrix')\n",
    "plt.xlabel('Y predict')\n",
    "plt.ylabel('Y test')\n",
    "plt.show()"
   ]
  },
  {
   "cell_type": "markdown",
   "metadata": {},
   "source": [
    "Berdasarkan SVM Confusion Matrix, diperoleh hasil sebagai berikut:\n",
    "1. “True Positive” - Frekuensi prediksi bahwa esok hari tidak terjadi hujan (0) dan sesuai dengan data aktual bahwa esok hari tidak terjadi hujan (0) sebanyak 16962.\n",
    "2. “False Positive” - Frekuensi prediksi bahwa esok hari tidak terjadi hujan (0), namun pada data aktual menunjukkan bahwa esok hari terjadi hujan (1) sebanyak 660.\n",
    "3. “False Negative” - Frekuensi prediksi bahwa esok hari terjadi hujan (1), namun pada data aktual menunjukkan bahwa esok hari tidak terjadi hujan (0) sebanyak 2727.\n",
    "4. \"True Positive\" - Frekuensi prediksi bahwa esok hari terjadi hujan (1) dan sesuai dengan data aktual bahwa esok hari terjadi hujan (1) sebanyak 2236."
   ]
  },
  {
   "cell_type": "code",
   "execution_count": 26,
   "metadata": {},
   "outputs": [
    {
     "name": "stdout",
     "output_type": "stream",
     "text": [
      "0.8500332078813372\n"
     ]
    }
   ],
   "source": [
    "# test score\n",
    "score_svmcla = svm.score(X_test, Y_test)\n",
    "print(score_svmcla)"
   ]
  },
  {
   "cell_type": "code",
   "execution_count": 27,
   "metadata": {},
   "outputs": [
    {
     "name": "stdout",
     "output_type": "stream",
     "text": [
      "Accuracy Score: 0.8500332078813372\n",
      "              precision    recall  f1-score   support\n",
      "\n",
      "         0.0       0.86      0.96      0.91     17622\n",
      "         1.0       0.77      0.45      0.57      4963\n",
      "\n",
      "    accuracy                           0.85     22585\n",
      "   macro avg       0.82      0.71      0.74     22585\n",
      "weighted avg       0.84      0.85      0.83     22585\n",
      "\n"
     ]
    }
   ],
   "source": [
    "print(\"Accuracy Score:\", accuracy_score(Y_test, Y_predict3))\n",
    "print(classification_report(Y_test, Y_predict3))"
   ]
  },
  {
   "cell_type": "markdown",
   "metadata": {},
   "source": [
    "### Decision Tree"
   ]
  },
  {
   "cell_type": "code",
   "execution_count": 28,
   "metadata": {},
   "outputs": [],
   "source": [
    "# decision tree\n",
    "# mendefinisikan model\n",
    "dtcla = DecisionTreeClassifier(random_state=9)\n",
    "\n",
    "# training model\n",
    "dtcla.fit(X_train, Y_train)\n",
    "\n",
    "# predict target values\n",
    "Y_predict4 = dtcla.predict(X_test)"
   ]
  },
  {
   "cell_type": "code",
   "execution_count": 29,
   "metadata": {},
   "outputs": [
    {
     "data": {
      "image/png": "[encoded data removed]",
      "text/plain": [
       "<Figure size 360x360 with 2 Axes>"
      ]
     },
     "metadata": {
      "needs_background": "light"
     },
     "output_type": "display_data"
    }
   ],
   "source": [
    "# confusion matrix\n",
    "dtcla_cm = confusion_matrix(Y_test, Y_predict4)\n",
    "f, ax = plt.subplots(figsize=(5,5))\n",
    "sns.heatmap(dtcla_cm, annot=True, linewidth=0.7, linecolor='cyan', fmt='g', ax=ax, cmap=\"YlGnBu\")\n",
    "plt.title('Decision Tree Classification Confusion Matrix')\n",
    "plt.xlabel('Y predict')\n",
    "plt.ylabel('Y test')\n",
    "plt.show()"
   ]
  },
  {
   "cell_type": "markdown",
   "metadata": {},
   "source": [
    "Berdasarkan Decision Tree Confusion Matrix, diperoleh hasil sebagai berikut:\n",
    "1. “True Positive” - Frekuensi prediksi bahwa esok hari tidak terjadi hujan (0) dan sesuai dengan data aktual bahwa esok hari tidak terjadi hujan (0) sebanyak 15265.\n",
    "2. “False Positive” - Frekuensi prediksi bahwa esok hari tidak terjadi hujan (0), namun pada data aktual menunjukkan bahwa esok hari terjadi hujan (1) sebanyak 2357.\n",
    "3. “False Negative” - Frekuensi prediksi bahwa esok hari terjadi hujan (1), namun pada data aktual menunjukkan bahwa esok hari tidak terjadi hujan (0) sebanyak 2278.\n",
    "4. \"True Positive\" - Frekuensi prediksi bahwa esok hari terjadi hujan (1) dan sesuai dengan data aktual bahwa esok hari terjadi hujan (1) sebanyak 2685."
   ]
  },
  {
   "cell_type": "code",
   "execution_count": 30,
   "metadata": {},
   "outputs": [
    {
     "name": "stdout",
     "output_type": "stream",
     "text": [
      "0.7947752933362852\n"
     ]
    }
   ],
   "source": [
    "# test score\n",
    "score_dtcla = dtcla.score(X_test, Y_test)\n",
    "print(score_dtcla)"
   ]
  },
  {
   "cell_type": "code",
   "execution_count": 31,
   "metadata": {},
   "outputs": [
    {
     "name": "stdout",
     "output_type": "stream",
     "text": [
      "Accuracy Score: 0.7947752933362852\n",
      "              precision    recall  f1-score   support\n",
      "\n",
      "         0.0       0.87      0.87      0.87     17622\n",
      "         1.0       0.53      0.54      0.54      4963\n",
      "\n",
      "    accuracy                           0.79     22585\n",
      "   macro avg       0.70      0.70      0.70     22585\n",
      "weighted avg       0.80      0.79      0.80     22585\n",
      "\n"
     ]
    }
   ],
   "source": [
    "print(\"Accuracy Score:\", accuracy_score(Y_test, Y_predict4))\n",
    "print(classification_report(Y_test, Y_predict4))"
   ]
  },
  {
   "cell_type": "markdown",
   "metadata": {},
   "source": [
    "### Random Forest"
   ]
  },
  {
   "cell_type": "code",
   "execution_count": 32,
   "metadata": {},
   "outputs": [],
   "source": [
    "# random forest\n",
    "# mendefinisikan model\n",
    "rfcla = RandomForestClassifier(n_estimators=100,random_state=9,n_jobs=-1)\n",
    "\n",
    "# training model\n",
    "rfcla.fit(X_train, Y_train)\n",
    "\n",
    "# predict target values\n",
    "Y_predict5 = rfcla.predict(X_test)"
   ]
  },
  {
   "cell_type": "code",
   "execution_count": 33,
   "metadata": {},
   "outputs": [
    {
     "data": {
      "image/png": "[encoded data removed]",
      "text/plain": [
       "<Figure size 360x360 with 2 Axes>"
      ]
     },
     "metadata": {
      "needs_background": "light"
     },
     "output_type": "display_data"
    }
   ],
   "source": [
    "# confusion matrix\n",
    "rfcla_cm = confusion_matrix(Y_test, Y_predict5)\n",
    "f, ax = plt.subplots(figsize=(5,5))\n",
    "sns.heatmap(rfcla_cm, annot=True, linewidth=0.7, linecolor='cyan', fmt='g', ax=ax, cmap=\"YlGnBu\")\n",
    "plt.title('Random Forest Classification Confusion Matrix')\n",
    "plt.xlabel('Y predict')\n",
    "plt.ylabel('Y test')\n",
    "plt.show()"
   ]
  },
  {
   "cell_type": "markdown",
   "metadata": {},
   "source": [
    "Berdasarkan Random Forest Confusion Matrix, diperoleh hasil sebagai berikut:\n",
    "1. “True Positive” - Frekuensi prediksi bahwa esok hari tidak terjadi hujan (0) dan sesuai dengan data aktual bahwa esok hari tidak terjadi hujan (0) sebanyak 16853.\n",
    "2. “False Positive” - Frekuensi prediksi bahwa esok hari tidak terjadi hujan (0), namun pada data aktual menunjukkan bahwa esok hari terjadi hujan (1) sebanyak 769.\n",
    "3. “False Negative” - Frekuensi prediksi bahwa esok hari terjadi hujan (1), namun pada data aktual menunjukkan bahwa esok hari tidak terjadi hujan (0) sebanyak 2503.\n",
    "4. \"True Positive\" - Frekuensi prediksi bahwa esok hari terjadi hujan (1) dan sesuai dengan data aktual bahwa esok hari terjadi hujan (1) sebanyak 2460."
   ]
  },
  {
   "cell_type": "code",
   "execution_count": 34,
   "metadata": {},
   "outputs": [
    {
     "name": "stdout",
     "output_type": "stream",
     "text": [
      "0.8551250830197034\n"
     ]
    }
   ],
   "source": [
    "# test score\n",
    "score_rfcla = rfcla.score(X_test, Y_test)\n",
    "print(score_rfcla)"
   ]
  },
  {
   "cell_type": "code",
   "execution_count": 35,
   "metadata": {},
   "outputs": [
    {
     "name": "stdout",
     "output_type": "stream",
     "text": [
      "Accuracy Score: 0.8551250830197034\n",
      "              precision    recall  f1-score   support\n",
      "\n",
      "         0.0       0.87      0.96      0.91     17622\n",
      "         1.0       0.76      0.50      0.60      4963\n",
      "\n",
      "    accuracy                           0.86     22585\n",
      "   macro avg       0.82      0.73      0.76     22585\n",
      "weighted avg       0.85      0.86      0.84     22585\n",
      "\n"
     ]
    }
   ],
   "source": [
    "print(\"Accuracy Score:\", accuracy_score(Y_test, Y_predict5))\n",
    "print(classification_report(Y_test, Y_predict5))"
   ]
  },
  {
   "cell_type": "markdown",
   "metadata": {},
   "source": [
    "### Naive Bayes"
   ]
  },
  {
   "cell_type": "code",
   "execution_count": 36,
   "metadata": {},
   "outputs": [],
   "source": [
    "# naive bayes\n",
    "# mendefinisikan model\n",
    "nbcla = GaussianNB()\n",
    "\n",
    "# training model\n",
    "nbcla.fit(X_train, Y_train)\n",
    "\n",
    "# predict target values\n",
    "Y_predict6 = nbcla.predict(X_test)"
   ]
  },
  {
   "cell_type": "code",
   "execution_count": 37,
   "metadata": {},
   "outputs": [
    {
     "data": {
      "image/png": "[encoded data removed]",
      "text/plain": [
       "<Figure size 360x360 with 2 Axes>"
      ]
     },
     "metadata": {
      "needs_background": "light"
     },
     "output_type": "display_data"
    }
   ],
   "source": [
    "# confusion matrix\n",
    "nbcla_cm = confusion_matrix(Y_test, Y_predict6)\n",
    "f, ax = plt.subplots(figsize=(5,5))\n",
    "sns.heatmap(nbcla_cm, annot=True, linewidth=0.7, linecolor='cyan', fmt='g', ax=ax, cmap=\"YlGnBu\")\n",
    "plt.title('Naive Bayes Classification Confusion Matrix')\n",
    "plt.xlabel('Y predict')\n",
    "plt.ylabel('Y test')\n",
    "plt.show()"
   ]
  },
  {
   "cell_type": "markdown",
   "metadata": {},
   "source": [
    "Berdasarkan Naive Bayes Confusion Matrix, diperoleh hasil sebagai berikut:\n",
    "1. “True Positive” - Frekuensi prediksi bahwa esok hari tidak terjadi hujan (0) dan sesuai dengan data aktual bahwa esok hari tidak terjadi hujan (0) sebanyak 13246.\n",
    "2. “False Positive” - Frekuensi prediksi bahwa esok hari tidak terjadi hujan (0), namun pada data aktual menunjukkan bahwa esok hari terjadi hujan (1) sebanyak 4376.\n",
    "3. “False Negative” - Frekuensi prediksi bahwa esok hari terjadi hujan (1), namun pada data aktual menunjukkan bahwa esok hari tidak terjadi hujan (0) sebanyak 1916.\n",
    "4. \"True Positive\" - Frekuensi prediksi bahwa esok hari terjadi hujan (1) dan sesuai dengan data aktual bahwa esok hari terjadi hujan (1) sebanyak 3047."
   ]
  },
  {
   "cell_type": "code",
   "execution_count": 38,
   "metadata": {},
   "outputs": [
    {
     "name": "stdout",
     "output_type": "stream",
     "text": [
      "0.721408014168696\n"
     ]
    }
   ],
   "source": [
    "# test score\n",
    "score_nbcla = nbcla.score(X_test, Y_test)\n",
    "print(score_nbcla)"
   ]
  },
  {
   "cell_type": "code",
   "execution_count": 39,
   "metadata": {},
   "outputs": [
    {
     "name": "stdout",
     "output_type": "stream",
     "text": [
      "Accuracy Score: 0.721408014168696\n",
      "              precision    recall  f1-score   support\n",
      "\n",
      "         0.0       0.87      0.75      0.81     17622\n",
      "         1.0       0.41      0.61      0.49      4963\n",
      "\n",
      "    accuracy                           0.72     22585\n",
      "   macro avg       0.64      0.68      0.65     22585\n",
      "weighted avg       0.77      0.72      0.74     22585\n",
      "\n"
     ]
    }
   ],
   "source": [
    "print(\"Accuracy Score:\", accuracy_score(Y_test, Y_predict6))\n",
    "print(classification_report(Y_test, Y_predict6))"
   ]
  },
  {
   "cell_type": "markdown",
   "metadata": {},
   "source": [
    "## Evaluasi Model"
   ]
  },
  {
   "cell_type": "code",
   "execution_count": 40,
   "metadata": {},
   "outputs": [
    {
     "name": "stdout",
     "output_type": "stream",
     "text": [
      "Logistic Regression Score       0.849413\n",
      "Support Vector Machine Score    0.850033\n",
      "Naive Bayes Score               0.721408\n",
      "Decision Tree Score             0.794775\n",
      "Random Forest Score             0.855125\n",
      "K-Nearest Neighbour Score       0.816825\n",
      "dtype: float64\n"
     ]
    }
   ],
   "source": [
    "# membandingkan model\n",
    "model_ev = pd.DataFrame({'Model': ['Logistic Regression Score', \n",
    "                        'Support Vector Machine Score', 'Naive Bayes Score', 'Decision Tree Score', \n",
    "                         'Random Forest Score', 'K-Nearest Neighbour Score'], 'Accuracy': [score_logreg, score_svmcla, score_nbcla, score_dtcla, \n",
    "                         score_rfcla, score_knncla]})\n",
    "model_ev\n",
    "\n",
    "Accuracy_score = pd.Series([score_logreg, score_svmcla, score_nbcla, score_dtcla, \n",
    "                         score_rfcla, score_knncla], index=['Logistic Regression Score', \n",
    "                        'Support Vector Machine Score', 'Naive Bayes Score', 'Decision Tree Score', \n",
    "                         'Random Forest Score', 'K-Nearest Neighbour Score']) \n",
    "print(Accuracy_score)"
   ]
  },
  {
   "cell_type": "markdown",
   "metadata": {},
   "source": [
    "## Kesimpulan"
   ]
  },
  {
   "cell_type": "markdown",
   "metadata": {},
   "source": [
    "1. Berdasarkan bar chart, prediksi bahwa hari esok tidak terjadi hujan lebih banyak dibandingkan prediksi bahwa hari esok terjadi hujan.\n",
    "2. Berdasarkan heatmap, terjadi korelasi positif yang kuat antara variabel MaxTemp & Temp3pm, antara variabel Pressure9am & Pressure 3pm, dan antara variabel MinTemp & Temp9an. Sedangkan korelasi negatif terkuat terjadi antara variabel Humidity3pm & Temp3pm, antara variabel MaxTemp & Humidity9am, dan antara variabel Humidity9am & Temp3pm.\n",
    "3. Pada project ini digunakan 6 algoritma model machine learning yang terdiri dari Logistic Regression, Support Vector Machine, Naive Bayes, Decision Tree Score, Random Forest, dan K-Nearest Neighbour.\n",
    "4. Berdasarkan perbandingan nilai akurasi dari 6 algoritma model machine learning, model dengan nilai akurasi tertinggi adalah model Random Forest dengan nilai akurasi sebesar 0.855125. Sehingga algoritma yang paling sesuai untuk digunakan adalah Random Forest."
   ]
  },
  {
   "cell_type": "code",
   "execution_count": null,
   "metadata": {},
   "outputs": [],
   "source": []
  },
  {
   "cell_type": "code",
   "execution_count": null,
   "metadata": {},
   "outputs": [],
   "source": []
  },
  {
   "cell_type": "code",
   "execution_count": null,
   "metadata": {},
   "outputs": [],
   "source": []
  },
  {
   "cell_type": "code",
   "execution_count": null,
   "metadata": {},
   "outputs": [],
   "source": []
  }
 ],
 "metadata": {
  "interpreter": {
   "hash": "e9a8cbe108339b3e607c1d1284bcb36d094c42c8cafb0877055799471693e25e"
  },
  "kernelspec": {
   "display_name": "Python 3.8.5 64-bit ('base': conda)",
   "language": "python",
   "name": "python3"
  },
  "language_info": {
   "codemirror_mode": {
    "name": "ipython",
    "version": 3
   },
   "file_extension": ".py",
   "mimetype": "text/x-python",
   "name": "python",
   "nbconvert_exporter": "python",
   "pygments_lexer": "ipython3",
   "version": "3.8.5"
  },
  "orig_nbformat": 4
 },
 "nbformat": 4,
 "nbformat_minor": 2
}
